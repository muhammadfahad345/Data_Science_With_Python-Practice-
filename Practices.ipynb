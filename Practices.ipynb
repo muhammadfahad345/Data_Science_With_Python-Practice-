{
 "cells": [
  {
   "cell_type": "markdown",
   "id": "d919ea74",
   "metadata": {},
   "source": [
    "# Print"
   ]
  },
  {
   "cell_type": "code",
   "execution_count": 1,
   "id": "94b8363d",
   "metadata": {
    "scrolled": true
   },
   "outputs": [
    {
     "name": "stdout",
     "output_type": "stream",
     "text": [
      "fahad and saad is brother\n"
     ]
    }
   ],
   "source": [
    "print(\"fahad and saad is brother\")"
   ]
  },
  {
   "cell_type": "code",
   "execution_count": 8,
   "id": "702b19a6",
   "metadata": {},
   "outputs": [
    {
     "name": "stdout",
     "output_type": "stream",
     "text": [
      "fahad***saad***hammad***ellaf***mama***papa\n"
     ]
    }
   ],
   "source": [
    "print(\"fahad\", \"saad\", sep='***', end= '***')\n",
    "print(\"hammad\", \"ellaf\",sep='***', end= '***')\n",
    "print(\"mama\", \"papa\", sep=\"***\")"
   ]
  },
  {
   "cell_type": "code",
   "execution_count": 9,
   "id": "b334e1e8",
   "metadata": {},
   "outputs": [
    {
     "name": "stdout",
     "output_type": "stream",
     "text": [
      "15\n"
     ]
    }
   ],
   "source": [
    "a = 5\n",
    "b = 10\n",
    "c= a+b\n",
    "print(c)"
   ]
  },
  {
   "cell_type": "code",
   "execution_count": 10,
   "id": "0388902c",
   "metadata": {},
   "outputs": [
    {
     "data": {
      "text/plain": [
       "'fahadmanzoor'"
      ]
     },
     "execution_count": 10,
     "metadata": {},
     "output_type": "execute_result"
    }
   ],
   "source": [
    "a= 'fahad'\n",
    "b = 'manzoor'\n",
    "c= a+b\n",
    "c"
   ]
  },
  {
   "cell_type": "code",
   "execution_count": 11,
   "id": "cf079b16",
   "metadata": {},
   "outputs": [
    {
     "data": {
      "text/plain": [
       "12"
      ]
     },
     "execution_count": 11,
     "metadata": {},
     "output_type": "execute_result"
    }
   ],
   "source": [
    "a = 6\n",
    "b = a + 6\n",
    "b"
   ]
  },
  {
   "cell_type": "markdown",
   "id": "0f52cedd",
   "metadata": {},
   "source": [
    "# commenting"
   ]
  },
  {
   "cell_type": "code",
   "execution_count": null,
   "id": "7deeb34a",
   "metadata": {},
   "outputs": [],
   "source": [
    "# is trha likhta ha commenting"
   ]
  },
  {
   "cell_type": "code",
   "execution_count": 14,
   "id": "8ed2dfd3",
   "metadata": {},
   "outputs": [
    {
     "data": {
      "text/plain": [
       "'\\n (agr 2 line ma kuch explain krna ho or wo single line ma show ho to asa likhta ha )\\n'"
      ]
     },
     "execution_count": 14,
     "metadata": {},
     "output_type": "execute_result"
    }
   ],
   "source": [
    "'''\n",
    " (agr 2 line ma kuch explain krna ho or wo single line ma show ho to asa likhta ha )\n",
    "'''"
   ]
  },
  {
   "cell_type": "markdown",
   "id": "b2d634a0",
   "metadata": {},
   "source": [
    "# Data Types"
   ]
  },
  {
   "cell_type": "code",
   "execution_count": null,
   "id": "557b35aa",
   "metadata": {},
   "outputs": [],
   "source": [
    "5 =        integer == int\n",
    "5.5 =      float\n",
    "'fahad'=    string == str\n",
    "\"fahad\" =   string == str\n",
    "True    =   Boolean == bool\n",
    "False   =   Boolen  == bool\n"
   ]
  },
  {
   "cell_type": "markdown",
   "id": "e17251ef",
   "metadata": {},
   "source": [
    "# Average "
   ]
  },
  {
   "cell_type": "code",
   "execution_count": 15,
   "id": "39477485",
   "metadata": {},
   "outputs": [
    {
     "name": "stdout",
     "output_type": "stream",
     "text": [
      "My Average is  80.33333333333333\n"
     ]
    }
   ],
   "source": [
    "var1 = 76\n",
    "var2 = 87\n",
    "var3 = 78\n",
    "\n",
    "# calculate average\n",
    "\n",
    "average = (var1 + var2 +var3) / 3\n",
    "print(\"My Average is \", average)"
   ]
  },
  {
   "cell_type": "markdown",
   "id": "3a9f8424",
   "metadata": {},
   "source": [
    "# Percentage"
   ]
  },
  {
   "cell_type": "code",
   "execution_count": 18,
   "id": "d9ae60e6",
   "metadata": {},
   "outputs": [
    {
     "data": {
      "text/plain": [
       "86.66666666666667"
      ]
     },
     "execution_count": 18,
     "metadata": {},
     "output_type": "execute_result"
    }
   ],
   "source": [
    "var4 = 87\n",
    "var5 = 79\n",
    "var6 = 94\n",
    "\n",
    "obtain_mark = var4 + var5 + var6 \n",
    "obtain_mark \n",
    "\n",
    "total_mark = 300\n",
    "\n",
    "# calculate percentage\n",
    "\n",
    "\n",
    "percentage = (obtain_mark / total_mark) *100\n",
    "percentage\n",
    "\n",
    "\n"
   ]
  },
  {
   "cell_type": "markdown",
   "id": "1aa9566c",
   "metadata": {},
   "source": [
    "# Operators"
   ]
  },
  {
   "cell_type": "code",
   "execution_count": 22,
   "id": "1ba19353",
   "metadata": {},
   "outputs": [
    {
     "name": "stdout",
     "output_type": "stream",
     "text": [
      "1.6666666666666667\n",
      "1\n"
     ]
    }
   ],
   "source": [
    "print(5 / 3)    # simple operators\n",
    "print(5 // 3)   # flood division"
   ]
  },
  {
   "cell_type": "code",
   "execution_count": 23,
   "id": "b197062e",
   "metadata": {},
   "outputs": [
    {
     "name": "stdout",
     "output_type": "stream",
     "text": [
      "False\n"
     ]
    }
   ],
   "source": [
    "print(True and False)"
   ]
  },
  {
   "cell_type": "code",
   "execution_count": 28,
   "id": "d4b8fba5",
   "metadata": {},
   "outputs": [
    {
     "name": "stdout",
     "output_type": "stream",
     "text": [
      "3125\n"
     ]
    }
   ],
   "source": [
    "c = 5\n",
    "print(c ** 5)"
   ]
  },
  {
   "cell_type": "code",
   "execution_count": 32,
   "id": "88381a69",
   "metadata": {},
   "outputs": [
    {
     "name": "stdout",
     "output_type": "stream",
     "text": [
      "0\n",
      "1\n",
      "0\n"
     ]
    }
   ],
   "source": [
    "print(9 % 3)\n",
    "print(9 % 2)\n",
    "print(8 % 2)"
   ]
  },
  {
   "cell_type": "markdown",
   "id": "78e38f18",
   "metadata": {},
   "source": [
    "# Tasks"
   ]
  },
  {
   "cell_type": "code",
   "execution_count": 34,
   "id": "d61f152c",
   "metadata": {},
   "outputs": [
    {
     "name": "stdout",
     "output_type": "stream",
     "text": [
      "fahad fahad fahad fahad fahad fahad fahad fahad fahad fahad fahad fahad fahad fahad fahad \n"
     ]
    }
   ],
   "source": [
    "# task 1\n",
    "\n",
    "print('fahad ' * 15)"
   ]
  },
  {
   "cell_type": "code",
   "execution_count": 35,
   "id": "183fda96",
   "metadata": {},
   "outputs": [
    {
     "data": {
      "text/plain": [
       "'fahad manzoor'"
      ]
     },
     "execution_count": 35,
     "metadata": {},
     "output_type": "execute_result"
    }
   ],
   "source": [
    "# task 2\n",
    "\n",
    "a = \"fahad\"\n",
    "b = \" manzoor\"\n",
    "c = a+b\n",
    "c"
   ]
  },
  {
   "cell_type": "code",
   "execution_count": 2,
   "id": "6c84bb1c",
   "metadata": {},
   "outputs": [
    {
     "name": "stdout",
     "output_type": "stream",
     "text": [
      "0.6\n",
      "-14.4\n",
      "-3.0\n"
     ]
    }
   ],
   "source": [
    "# task3 \n",
    "\n",
    "a =  3\n",
    "b = 5\n",
    "\n",
    "third = a/b\n",
    "print(third)\n",
    "\n",
    "third -= 15\n",
    "print(third)\n",
    "\n",
    "result = third // 5\n",
    "print(result)"
   ]
  },
  {
   "cell_type": "markdown",
   "id": "9d6a9a44",
   "metadata": {},
   "source": [
    "# Input"
   ]
  },
  {
   "cell_type": "code",
   "execution_count": 3,
   "id": "052ffa20",
   "metadata": {},
   "outputs": [
    {
     "name": "stdout",
     "output_type": "stream",
     "text": [
      "what is your namefahad\n"
     ]
    },
    {
     "data": {
      "text/plain": [
       "'fahad'"
      ]
     },
     "execution_count": 3,
     "metadata": {},
     "output_type": "execute_result"
    }
   ],
   "source": [
    "name = input(\"what is your name\")\n",
    "name"
   ]
  },
  {
   "cell_type": "markdown",
   "id": "f46b1d47",
   "metadata": {},
   "source": [
    "Input function always takes input in form of string unless you manually define a data type for it. "
   ]
  },
  {
   "cell_type": "code",
   "execution_count": 7,
   "id": "7353b273",
   "metadata": {},
   "outputs": [
    {
     "name": "stdout",
     "output_type": "stream",
     "text": [
      "what is your current city tempreture : 33.5\n"
     ]
    },
    {
     "data": {
      "text/plain": [
       "33.5"
      ]
     },
     "execution_count": 7,
     "metadata": {},
     "output_type": "execute_result"
    }
   ],
   "source": [
    "var = float(input('what is your current city tempreture : '))\n",
    "var"
   ]
  },
  {
   "cell_type": "code",
   "execution_count": 34,
   "id": "0a47a227",
   "metadata": {},
   "outputs": [
    {
     "name": "stdout",
     "output_type": "stream",
     "text": [
      "55\n",
      "output 55\n",
      "<class 'int'>\n"
     ]
    }
   ],
   "source": [
    "var1 = int(input())\n",
    "print(\"output\", var1)\n",
    "print(type(var1))\n"
   ]
  },
  {
   "cell_type": "code",
   "execution_count": 37,
   "id": "e484a9fa",
   "metadata": {
    "scrolled": false
   },
   "outputs": [
    {
     "name": "stdout",
     "output_type": "stream",
     "text": [
      "55.5\n",
      "output 55.5\n",
      "<class 'float'>\n"
     ]
    }
   ],
   "source": [
    "var2 = float(input())\n",
    "print(\"output\", var2)\n",
    "print(type(var2))"
   ]
  },
  {
   "cell_type": "code",
   "execution_count": 49,
   "id": "f195ef47",
   "metadata": {},
   "outputs": [
    {
     "name": "stdout",
     "output_type": "stream",
     "text": [
      "35\n",
      "output 35\n",
      "<class 'int'>\n"
     ]
    }
   ],
   "source": [
    "var5 = int(input())\n",
    "print(\"output\", var5)\n",
    "print(type(var5))\n"
   ]
  },
  {
   "cell_type": "code",
   "execution_count": null,
   "id": "842f807a",
   "metadata": {},
   "outputs": [],
   "source": []
  },
  {
   "cell_type": "code",
   "execution_count": null,
   "id": "55d24383",
   "metadata": {},
   "outputs": [],
   "source": []
  },
  {
   "cell_type": "code",
   "execution_count": null,
   "id": "0229a30d",
   "metadata": {},
   "outputs": [],
   "source": []
  },
  {
   "cell_type": "markdown",
   "id": "1898d952",
   "metadata": {},
   "source": [
    "# Type casting"
   ]
  },
  {
   "cell_type": "code",
   "execution_count": 17,
   "id": "eea30971",
   "metadata": {
    "scrolled": true
   },
   "outputs": [
    {
     "name": "stdout",
     "output_type": "stream",
     "text": [
      "10\n",
      "<class 'int'>\n"
     ]
    }
   ],
   "source": [
    "a = 10.5\n",
    "a = int(a)\n",
    "print(a)\n",
    "print(type(a))\n"
   ]
  },
  {
   "cell_type": "code",
   "execution_count": 25,
   "id": "4e089bf4",
   "metadata": {},
   "outputs": [
    {
     "name": "stdout",
     "output_type": "stream",
     "text": [
      "33.5\n",
      "<class 'float'>\n",
      "33\n",
      "<class 'int'>\n"
     ]
    }
   ],
   "source": [
    "b = '33.5'\n",
    "b = float(b)\n",
    "print(b)\n",
    "print(type(b))\n",
    "\n",
    "\n",
    "b = int(b)\n",
    "print(b)\n",
    "print(type(b))"
   ]
  },
  {
   "cell_type": "code",
   "execution_count": 53,
   "id": "03d1768b",
   "metadata": {},
   "outputs": [
    {
     "name": "stdout",
     "output_type": "stream",
     "text": [
      "18\n",
      "<class 'int'>\n"
     ]
    }
   ],
   "source": [
    "c = 18.5\n",
    "c = int(c)\n",
    "print(int(c))\n",
    "print(type(c))\n"
   ]
  },
  {
   "cell_type": "markdown",
   "id": "f01f2242",
   "metadata": {},
   "source": [
    "# Conditional "
   ]
  },
  {
   "cell_type": "markdown",
   "id": "3e43e498",
   "metadata": {},
   "source": [
    "### if , elif and else condition"
   ]
  },
  {
   "cell_type": "code",
   "execution_count": 54,
   "id": "33679d57",
   "metadata": {},
   "outputs": [
    {
     "name": "stdout",
     "output_type": "stream",
     "text": [
      "Theak Ha \n"
     ]
    }
   ],
   "source": [
    "if(5 > 4):\n",
    "    print(\"Theak Ha \")\n",
    "else:\n",
    "    (\"galat ha \")"
   ]
  },
  {
   "cell_type": "code",
   "execution_count": 57,
   "id": "ab0a079b",
   "metadata": {},
   "outputs": [
    {
     "name": "stdout",
     "output_type": "stream",
     "text": [
      "Enter your current city tempreture : 1.0\n",
      "its cool\n"
     ]
    }
   ],
   "source": [
    "tempreture = float(input(\"Enter your current city tempreture : \"))\n",
    "\n",
    "if(tempreture < 15):\n",
    "    print(\"its cool\")\n",
    "elif((tempreture >= 15) and (tempreture <30)):\n",
    "    print(\"its moderate\")\n",
    "elif((tempreture >= 30) and (tempreture <40)):\n",
    "    print(\"its hot\")\n",
    "else:\n",
    "    print(\"so hot\")\n",
    "    "
   ]
  },
  {
   "cell_type": "markdown",
   "id": "4fdcf808",
   "metadata": {},
   "source": [
    "# Nested If"
   ]
  },
  {
   "cell_type": "code",
   "execution_count": 59,
   "id": "0a35d426",
   "metadata": {},
   "outputs": [],
   "source": [
    "if( 5 > 6):\n",
    "    print(\"ok\")\n",
    "    if(8> 5):\n",
    "        print(\"not ok\")"
   ]
  },
  {
   "cell_type": "code",
   "execution_count": 6,
   "id": "946f3cc9",
   "metadata": {},
   "outputs": [
    {
     "name": "stdout",
     "output_type": "stream",
     "text": [
      "enter your current city tempreture :18\n"
     ]
    }
   ],
   "source": [
    "temp = float(input(\"enter your current city tempreture :\"))\n",
    "if(temp < 15):\n",
    "    if(temp > 15):\n",
    "        print(\"ok\")\n",
    "        \n",
    "\n",
    "\n",
    "\n",
    "\n",
    "    \n"
   ]
  },
  {
   "cell_type": "markdown",
   "id": "e67d5e0d",
   "metadata": {},
   "source": [
    "# List"
   ]
  },
  {
   "cell_type": "code",
   "execution_count": 81,
   "id": "b520c69d",
   "metadata": {},
   "outputs": [],
   "source": [
    "lst = [\"fahad\",\"saad\",\"hammad\", \"arslan\",\"mama\",123, 654, \"carton\", 345, \"ok ha\"]"
   ]
  },
  {
   "cell_type": "code",
   "execution_count": 75,
   "id": "f6962ce9",
   "metadata": {},
   "outputs": [
    {
     "data": {
      "text/plain": [
       "['fahad', 'saad', 'hammad', 'arslan', 'mama']"
      ]
     },
     "execution_count": 75,
     "metadata": {},
     "output_type": "execute_result"
    }
   ],
   "source": [
    "lst\n"
   ]
  },
  {
   "cell_type": "code",
   "execution_count": 76,
   "id": "37e98492",
   "metadata": {
    "scrolled": true
   },
   "outputs": [
    {
     "data": {
      "text/plain": [
       "list"
      ]
     },
     "execution_count": 76,
     "metadata": {},
     "output_type": "execute_result"
    }
   ],
   "source": [
    "type(lst)"
   ]
  },
  {
   "cell_type": "code",
   "execution_count": 77,
   "id": "dbb0abf7",
   "metadata": {},
   "outputs": [
    {
     "data": {
      "text/plain": [
       "'fahad'"
      ]
     },
     "execution_count": 77,
     "metadata": {},
     "output_type": "execute_result"
    }
   ],
   "source": [
    "lst[0]"
   ]
  },
  {
   "cell_type": "code",
   "execution_count": 80,
   "id": "95e5277e",
   "metadata": {},
   "outputs": [
    {
     "data": {
      "text/plain": [
       "'mama'"
      ]
     },
     "execution_count": 80,
     "metadata": {},
     "output_type": "execute_result"
    }
   ],
   "source": [
    "lst[4]"
   ]
  },
  {
   "cell_type": "code",
   "execution_count": 82,
   "id": "900fefc7",
   "metadata": {},
   "outputs": [
    {
     "data": {
      "text/plain": [
       "'ok ha'"
      ]
     },
     "execution_count": 82,
     "metadata": {},
     "output_type": "execute_result"
    }
   ],
   "source": [
    "lst[-1]"
   ]
  },
  {
   "cell_type": "markdown",
   "id": "142de708",
   "metadata": {},
   "source": [
    "# slicing of index"
   ]
  },
  {
   "cell_type": "code",
   "execution_count": 89,
   "id": "ca99d828",
   "metadata": {},
   "outputs": [
    {
     "data": {
      "text/plain": [
       "['fahad', 'saad', 'hammad', 'arslan', 'mama', 123, 654, 'carton', 345, 'ok ha']"
      ]
     },
     "execution_count": 89,
     "metadata": {},
     "output_type": "execute_result"
    }
   ],
   "source": [
    "lst[0: 11 ]"
   ]
  },
  {
   "cell_type": "code",
   "execution_count": 97,
   "id": "5346378a",
   "metadata": {},
   "outputs": [
    {
     "data": {
      "text/plain": [
       "[123, 654, 'carton', 345]"
      ]
     },
     "execution_count": 97,
     "metadata": {},
     "output_type": "execute_result"
    }
   ],
   "source": [
    "lst[-5 : -1]"
   ]
  },
  {
   "cell_type": "code",
   "execution_count": 98,
   "id": "e0630210",
   "metadata": {},
   "outputs": [
    {
     "data": {
      "text/plain": [
       "[0, 1, 2, 3, 4, 5, 6, 7, 8, 9, 10, 11, 12, 13, 14, 15, 16, 17, 18, 19, 20]"
      ]
     },
     "execution_count": 98,
     "metadata": {},
     "output_type": "execute_result"
    }
   ],
   "source": [
    "nums = [0,1,2,3,4,5,6,7,8,9,10,11,12,13,14,15,16,17,18,19,20]\n",
    "nums"
   ]
  },
  {
   "cell_type": "code",
   "execution_count": 99,
   "id": "cd7b9a3e",
   "metadata": {},
   "outputs": [
    {
     "data": {
      "text/plain": [
       "[1, 3, 5, 7, 9, 11, 13, 15, 17, 19]"
      ]
     },
     "execution_count": 99,
     "metadata": {},
     "output_type": "execute_result"
    }
   ],
   "source": [
    "nums[1 : -1 : 2]"
   ]
  },
  {
   "cell_type": "code",
   "execution_count": 100,
   "id": "01ed0fcc",
   "metadata": {},
   "outputs": [
    {
     "data": {
      "text/plain": [
       "[2, 4, 6, 8, 10, 12, 14, 16, 18]"
      ]
     },
     "execution_count": 100,
     "metadata": {},
     "output_type": "execute_result"
    }
   ],
   "source": [
    "nums[2: -1 :2]"
   ]
  },
  {
   "cell_type": "markdown",
   "id": "106df494",
   "metadata": {},
   "source": [
    "-------------------------------------******************---------------------------------------------"
   ]
  },
  {
   "cell_type": "code",
   "execution_count": 67,
   "id": "b1d2f09a",
   "metadata": {},
   "outputs": [
    {
     "data": {
      "text/plain": [
       "[5.5, 2, 'Facebook User', [200, 300, 400]]"
      ]
     },
     "execution_count": 67,
     "metadata": {},
     "output_type": "execute_result"
    }
   ],
   "source": [
    "new = [5.5, 2, \"Facebook User\", [200, 300, 400]]\n",
    "new"
   ]
  },
  {
   "cell_type": "code",
   "execution_count": 36,
   "id": "9bd6aa4b",
   "metadata": {},
   "outputs": [
    {
     "data": {
      "text/plain": [
       "300"
      ]
     },
     "execution_count": 36,
     "metadata": {},
     "output_type": "execute_result"
    }
   ],
   "source": [
    "new[3][1]"
   ]
  },
  {
   "cell_type": "code",
   "execution_count": null,
   "id": "0c648b7f",
   "metadata": {},
   "outputs": [],
   "source": []
  },
  {
   "cell_type": "code",
   "execution_count": null,
   "id": "71ce53a6",
   "metadata": {},
   "outputs": [],
   "source": []
  },
  {
   "cell_type": "code",
   "execution_count": null,
   "id": "f3de6faa",
   "metadata": {},
   "outputs": [],
   "source": []
  },
  {
   "cell_type": "code",
   "execution_count": null,
   "id": "32dc0b2a",
   "metadata": {},
   "outputs": [],
   "source": []
  },
  {
   "cell_type": "markdown",
   "id": "8c8560b9",
   "metadata": {},
   "source": [
    "# Method of list "
   ]
  },
  {
   "cell_type": "code",
   "execution_count": 50,
   "id": "7befa3c2",
   "metadata": {},
   "outputs": [],
   "source": [
    "new.append(\"fahad manzoor\")"
   ]
  },
  {
   "cell_type": "code",
   "execution_count": 51,
   "id": "febb9c2d",
   "metadata": {},
   "outputs": [
    {
     "data": {
      "text/plain": [
       "[5.5, 2, 'Facebook User', [200, 300, 400], 'fahad manzoor']"
      ]
     },
     "execution_count": 51,
     "metadata": {},
     "output_type": "execute_result"
    }
   ],
   "source": [
    "new"
   ]
  },
  {
   "cell_type": "code",
   "execution_count": 52,
   "id": "73186b82",
   "metadata": {},
   "outputs": [
    {
     "data": {
      "text/plain": [
       "1"
      ]
     },
     "execution_count": 52,
     "metadata": {},
     "output_type": "execute_result"
    }
   ],
   "source": [
    "new.count(2)"
   ]
  },
  {
   "cell_type": "code",
   "execution_count": 53,
   "id": "59cc3ba2",
   "metadata": {},
   "outputs": [],
   "source": [
    "cohort = [8, 20, 2022]\n",
    "\n",
    "new.append(cohort)"
   ]
  },
  {
   "cell_type": "code",
   "execution_count": 54,
   "id": "e89a8a1f",
   "metadata": {},
   "outputs": [
    {
     "data": {
      "text/plain": [
       "[5.5, 2, 'Facebook User', [200, 300, 400], 'fahad manzoor', [8, 20, 2022]]"
      ]
     },
     "execution_count": 54,
     "metadata": {},
     "output_type": "execute_result"
    }
   ],
   "source": [
    "new"
   ]
  },
  {
   "cell_type": "code",
   "execution_count": 55,
   "id": "f00648aa",
   "metadata": {},
   "outputs": [],
   "source": [
    "new.extend(cohort)"
   ]
  },
  {
   "cell_type": "code",
   "execution_count": 56,
   "id": "8171706a",
   "metadata": {
    "scrolled": false
   },
   "outputs": [
    {
     "data": {
      "text/plain": [
       "[5.5,\n",
       " 2,\n",
       " 'Facebook User',\n",
       " [200, 300, 400],\n",
       " 'fahad manzoor',\n",
       " [8, 20, 2022],\n",
       " 8,\n",
       " 20,\n",
       " 2022]"
      ]
     },
     "execution_count": 56,
     "metadata": {},
     "output_type": "execute_result"
    }
   ],
   "source": [
    "new"
   ]
  },
  {
   "cell_type": "code",
   "execution_count": 57,
   "id": "fbb46dc8",
   "metadata": {},
   "outputs": [],
   "source": [
    "new.insert(2,\"fahad\")"
   ]
  },
  {
   "cell_type": "code",
   "execution_count": 58,
   "id": "e7d4e2a3",
   "metadata": {},
   "outputs": [
    {
     "data": {
      "text/plain": [
       "[5.5,\n",
       " 2,\n",
       " 'fahad',\n",
       " 'Facebook User',\n",
       " [200, 300, 400],\n",
       " 'fahad manzoor',\n",
       " [8, 20, 2022],\n",
       " 8,\n",
       " 20,\n",
       " 2022]"
      ]
     },
     "execution_count": 58,
     "metadata": {},
     "output_type": "execute_result"
    }
   ],
   "source": [
    "new"
   ]
  },
  {
   "cell_type": "code",
   "execution_count": 61,
   "id": "9fc8ba94",
   "metadata": {},
   "outputs": [
    {
     "data": {
      "text/plain": [
       "5.5"
      ]
     },
     "execution_count": 61,
     "metadata": {},
     "output_type": "execute_result"
    }
   ],
   "source": [
    "new.pop(-8)"
   ]
  },
  {
   "cell_type": "code",
   "execution_count": 68,
   "id": "6e3c7c4d",
   "metadata": {},
   "outputs": [],
   "source": [
    "new.reverse()"
   ]
  },
  {
   "cell_type": "code",
   "execution_count": 69,
   "id": "4d508481",
   "metadata": {},
   "outputs": [
    {
     "data": {
      "text/plain": [
       "[[200, 300, 400], 'Facebook User', 2, 5.5]"
      ]
     },
     "execution_count": 69,
     "metadata": {},
     "output_type": "execute_result"
    }
   ],
   "source": [
    "new"
   ]
  },
  {
   "cell_type": "code",
   "execution_count": 71,
   "id": "8b240384",
   "metadata": {},
   "outputs": [],
   "source": [
    "new.remove(2)"
   ]
  },
  {
   "cell_type": "code",
   "execution_count": 72,
   "id": "de68612f",
   "metadata": {},
   "outputs": [
    {
     "name": "stdout",
     "output_type": "stream",
     "text": [
      "[[200, 300, 400], 'Facebook User', 5.5]\n"
     ]
    }
   ],
   "source": [
    "print(new)"
   ]
  },
  {
   "cell_type": "code",
   "execution_count": 101,
   "id": "cf4a8709",
   "metadata": {},
   "outputs": [],
   "source": [
    "l = [ 'fahad',\"manzoor hussain\", \"ali\",'hammad']"
   ]
  },
  {
   "cell_type": "code",
   "execution_count": 103,
   "id": "777c6233",
   "metadata": {
    "scrolled": true
   },
   "outputs": [],
   "source": [
    "l.sort()"
   ]
  },
  {
   "cell_type": "markdown",
   "id": "4ff34aa5",
   "metadata": {},
   "source": [
    "l"
   ]
  },
  {
   "cell_type": "code",
   "execution_count": null,
   "id": "3d3ac352",
   "metadata": {},
   "outputs": [],
   "source": []
  },
  {
   "cell_type": "code",
   "execution_count": null,
   "id": "40489c91",
   "metadata": {},
   "outputs": [],
   "source": []
  },
  {
   "cell_type": "markdown",
   "id": "0bdfc70d",
   "metadata": {},
   "source": [
    "# Tasks 1"
   ]
  },
  {
   "cell_type": "code",
   "execution_count": 114,
   "id": "0c6239f5",
   "metadata": {},
   "outputs": [],
   "source": [
    " lst1 = [1, 2, 3, 4, ['a', 'b', [3,4], 'c'], 5, [[['ab', 'bc', 'cd'], ['df', 'gh'], 7.5 ]], 6, 7, 8]"
   ]
  },
  {
   "cell_type": "code",
   "execution_count": 115,
   "id": "5611b28b",
   "metadata": {},
   "outputs": [
    {
     "data": {
      "text/plain": [
       "[1,\n",
       " 2,\n",
       " 3,\n",
       " 4,\n",
       " ['a', 'b', [3, 4], 'c'],\n",
       " 5,\n",
       " [[['ab', 'bc', 'cd'], ['df', 'gh'], 7.5]],\n",
       " 6,\n",
       " 7,\n",
       " 8]"
      ]
     },
     "execution_count": 115,
     "metadata": {},
     "output_type": "execute_result"
    }
   ],
   "source": [
    "lst1"
   ]
  },
  {
   "cell_type": "code",
   "execution_count": 116,
   "id": "67705c16",
   "metadata": {},
   "outputs": [
    {
     "data": {
      "text/plain": [
       "[[['ab', 'bc', 'cd'], ['df', 'gh'], 7.5]]"
      ]
     },
     "execution_count": 116,
     "metadata": {},
     "output_type": "execute_result"
    }
   ],
   "source": [
    "lst1[6]"
   ]
  },
  {
   "cell_type": "code",
   "execution_count": 118,
   "id": "2939c376",
   "metadata": {},
   "outputs": [
    {
     "data": {
      "text/plain": [
       "[['ab', 'bc', 'cd'], ['df', 'gh'], 7.5]"
      ]
     },
     "execution_count": 118,
     "metadata": {},
     "output_type": "execute_result"
    }
   ],
   "source": [
    "lst1[6][0]"
   ]
  },
  {
   "cell_type": "code",
   "execution_count": 119,
   "id": "8f29cf81",
   "metadata": {},
   "outputs": [
    {
     "data": {
      "text/plain": [
       "['ab', 'bc', 'cd']"
      ]
     },
     "execution_count": 119,
     "metadata": {},
     "output_type": "execute_result"
    }
   ],
   "source": [
    "lst1[6][0][0]"
   ]
  },
  {
   "cell_type": "code",
   "execution_count": 120,
   "id": "fd542f2b",
   "metadata": {
    "scrolled": true
   },
   "outputs": [
    {
     "data": {
      "text/plain": [
       "'bc'"
      ]
     },
     "execution_count": 120,
     "metadata": {},
     "output_type": "execute_result"
    }
   ],
   "source": [
    "lst1[6][0][0][1]"
   ]
  },
  {
   "cell_type": "markdown",
   "id": "3cf046b9",
   "metadata": {},
   "source": [
    "# Tasks 2"
   ]
  },
  {
   "cell_type": "code",
   "execution_count": 121,
   "id": "09514588",
   "metadata": {},
   "outputs": [],
   "source": [
    "lst2 = [1, 2, 3, 4, 5]\n",
    "lst3 = [\"a\", \"b\", \"c\", \"d\", \"e\"]\n",
    "lst4 = [True, False, True, False, True]"
   ]
  },
  {
   "cell_type": "code",
   "execution_count": 124,
   "id": "a1509cca",
   "metadata": {},
   "outputs": [],
   "source": [
    "lst4.insert(2, lst3)"
   ]
  },
  {
   "cell_type": "code",
   "execution_count": 125,
   "id": "57c9cac5",
   "metadata": {},
   "outputs": [
    {
     "data": {
      "text/plain": [
       "[True, False, ['a', 'b', 'c', 'd', 'e'], True, False, True]"
      ]
     },
     "execution_count": 125,
     "metadata": {},
     "output_type": "execute_result"
    }
   ],
   "source": [
    "lst4"
   ]
  },
  {
   "cell_type": "code",
   "execution_count": 126,
   "id": "185a9356",
   "metadata": {},
   "outputs": [],
   "source": [
    "lst2.insert(0, lst4)"
   ]
  },
  {
   "cell_type": "code",
   "execution_count": 127,
   "id": "d67ce329",
   "metadata": {},
   "outputs": [
    {
     "data": {
      "text/plain": [
       "[[True, False, ['a', 'b', 'c', 'd', 'e'], True, False, True], 1, 2, 3, 4, 5]"
      ]
     },
     "execution_count": 127,
     "metadata": {},
     "output_type": "execute_result"
    }
   ],
   "source": [
    "lst2"
   ]
  },
  {
   "cell_type": "markdown",
   "id": "7e4b7614",
   "metadata": {},
   "source": [
    "# Task 3"
   ]
  },
  {
   "cell_type": "code",
   "execution_count": 132,
   "id": "1fc748e8",
   "metadata": {},
   "outputs": [
    {
     "data": {
      "text/plain": [
       "['a', 'b', 'c', 'd', 'e']"
      ]
     },
     "execution_count": 132,
     "metadata": {},
     "output_type": "execute_result"
    }
   ],
   "source": [
    "lst2[0][2]"
   ]
  },
  {
   "cell_type": "code",
   "execution_count": 133,
   "id": "5d882e49",
   "metadata": {},
   "outputs": [],
   "source": [
    "var = lst2[0].pop(2)"
   ]
  },
  {
   "cell_type": "code",
   "execution_count": 134,
   "id": "c7d9c3ee",
   "metadata": {},
   "outputs": [
    {
     "data": {
      "text/plain": [
       "['a', 'b', 'c', 'd', 'e']"
      ]
     },
     "execution_count": 134,
     "metadata": {},
     "output_type": "execute_result"
    }
   ],
   "source": [
    "var"
   ]
  },
  {
   "cell_type": "code",
   "execution_count": 136,
   "id": "9a1e0498",
   "metadata": {},
   "outputs": [
    {
     "name": "stdout",
     "output_type": "stream",
     "text": [
      "['a', 'b', 'c', 'd', 'e', 'a', 'b', 'c', 'd', 'e', 'a', 'b', 'c', 'd', 'e', 'a', 'b', 'c', 'd', 'e', 'a', 'b', 'c', 'd', 'e', 'a', 'b', 'c', 'd', 'e', 'a', 'b', 'c', 'd', 'e', 'a', 'b', 'c', 'd', 'e', 'a', 'b', 'c', 'd', 'e', 'a', 'b', 'c', 'd', 'e']\n"
     ]
    }
   ],
   "source": [
    "print(var * 10)"
   ]
  },
  {
   "cell_type": "markdown",
   "id": "b7f939c5",
   "metadata": {},
   "source": [
    "# Tuple"
   ]
  },
  {
   "cell_type": "code",
   "execution_count": 137,
   "id": "403ae13f",
   "metadata": {},
   "outputs": [],
   "source": [
    "tup = (\"fahad\", 123 , [1,2,3], True)"
   ]
  },
  {
   "cell_type": "code",
   "execution_count": 138,
   "id": "e9d5a255",
   "metadata": {},
   "outputs": [
    {
     "data": {
      "text/plain": [
       "[1, 2, 3]"
      ]
     },
     "execution_count": 138,
     "metadata": {},
     "output_type": "execute_result"
    }
   ],
   "source": [
    "tup[2]"
   ]
  },
  {
   "cell_type": "code",
   "execution_count": 139,
   "id": "1c2893da",
   "metadata": {},
   "outputs": [
    {
     "data": {
      "text/plain": [
       "2"
      ]
     },
     "execution_count": 139,
     "metadata": {},
     "output_type": "execute_result"
    }
   ],
   "source": [
    "tup[2][1]"
   ]
  },
  {
   "cell_type": "code",
   "execution_count": 140,
   "id": "cd72999a",
   "metadata": {},
   "outputs": [
    {
     "data": {
      "text/plain": [
       "1"
      ]
     },
     "execution_count": 140,
     "metadata": {},
     "output_type": "execute_result"
    }
   ],
   "source": [
    "tup.count(123)"
   ]
  },
  {
   "cell_type": "code",
   "execution_count": 143,
   "id": "f5c85953",
   "metadata": {},
   "outputs": [
    {
     "data": {
      "text/plain": [
       "2"
      ]
     },
     "execution_count": 143,
     "metadata": {},
     "output_type": "execute_result"
    }
   ],
   "source": [
    "tup.index([1,2,3])"
   ]
  },
  {
   "cell_type": "markdown",
   "id": "6503d61a",
   "metadata": {},
   "source": [
    "# For Loops"
   ]
  },
  {
   "cell_type": "code",
   "execution_count": 146,
   "id": "1777fa71",
   "metadata": {},
   "outputs": [
    {
     "name": "stdout",
     "output_type": "stream",
     "text": [
      "0\n",
      "1\n",
      "2\n",
      "3\n",
      "4\n",
      "5\n"
     ]
    }
   ],
   "source": [
    "for i in range(6):\n",
    "    print(i)"
   ]
  },
  {
   "cell_type": "code",
   "execution_count": 151,
   "id": "ea28a422",
   "metadata": {},
   "outputs": [
    {
     "name": "stdout",
     "output_type": "stream",
     "text": [
      "a\n",
      "b\n",
      "c\n",
      "d\n",
      "e\n"
     ]
    }
   ],
   "source": [
    "for i in lst3:\n",
    "    print(i)"
   ]
  },
  {
   "cell_type": "code",
   "execution_count": 154,
   "id": "7df0c4de",
   "metadata": {},
   "outputs": [
    {
     "name": "stdout",
     "output_type": "stream",
     "text": [
      "[1, 3, 5, 7, 9]\n",
      "-----------\n",
      "[2, 4, 6, 8, 10]\n"
     ]
    }
   ],
   "source": [
    "lst1 = [1,2,3,4,5,6,7,8,9,10]\n",
    "lst2 = []\n",
    "\n",
    "for i in lst1:\n",
    "    if(i % 2) == 0:\n",
    "        lst2.append(i)\n",
    "        lst1.remove(i)\n",
    "    \n",
    "print(lst1)\n",
    "print('-----------')\n",
    "print(lst2)"
   ]
  },
  {
   "cell_type": "markdown",
   "id": "e70b4fed",
   "metadata": {},
   "source": [
    "# While Loop"
   ]
  },
  {
   "cell_type": "code",
   "execution_count": 156,
   "id": "c881607d",
   "metadata": {},
   "outputs": [
    {
     "name": "stdout",
     "output_type": "stream",
     "text": [
      "0\n",
      "1\n",
      "2\n",
      "3\n",
      "4\n",
      "5\n",
      "6\n",
      "7\n",
      "8\n",
      "9\n"
     ]
    }
   ],
   "source": [
    "i = 0\n",
    "\n",
    "while(i < 10):\n",
    "    print(i)\n",
    "    i += 1"
   ]
  },
  {
   "cell_type": "code",
   "execution_count": 75,
   "id": "9c6e601b",
   "metadata": {},
   "outputs": [
    {
     "name": "stdout",
     "output_type": "stream",
     "text": [
      "[0, 1, 2, 3, 4, 5, 6, 7, 8, 9]\n"
     ]
    }
   ],
   "source": [
    "lst3 = []\n",
    "i = 0\n",
    "\n",
    "while(i < 10):\n",
    "    lst3.append(i)\n",
    "    i+= 1\n",
    "print(lst3)    "
   ]
  },
  {
   "cell_type": "markdown",
   "id": "68a34a22",
   "metadata": {},
   "source": [
    "### While loop with break statement"
   ]
  },
  {
   "cell_type": "code",
   "execution_count": 83,
   "id": "211180a5",
   "metadata": {},
   "outputs": [
    {
     "name": "stdout",
     "output_type": "stream",
     "text": [
      "enter name 2: ali\n",
      "enter name 2: hammad\n",
      "enter name 2: saad\n",
      "enter name 2: fahad\n"
     ]
    }
   ],
   "source": [
    "name = 'fahad'\n",
    "data = []\n",
    "\n",
    "while(True):\n",
    "    name2 = str(input(\"enter name 2: \"))\n",
    "    if(name == name2):\n",
    "        break\n",
    "    else:\n",
    "        data.append(name2)"
   ]
  },
  {
   "cell_type": "code",
   "execution_count": 84,
   "id": "08e3e5ac",
   "metadata": {},
   "outputs": [
    {
     "data": {
      "text/plain": [
       "['ali', 'hammad', 'saad']"
      ]
     },
     "execution_count": 84,
     "metadata": {},
     "output_type": "execute_result"
    }
   ],
   "source": [
    "data"
   ]
  },
  {
   "cell_type": "code",
   "execution_count": 85,
   "id": "14ccc025",
   "metadata": {},
   "outputs": [
    {
     "name": "stdout",
     "output_type": "stream",
     "text": [
      "enter name 2: abc\n",
      "enter name 2: kjd\n",
      "enter name 2: ABC\n",
      "enter name 2: ABC\n",
      "enter name 2: ABC'ABC\n",
      "enter name 2: ABC\n",
      "enter name 2: ABC\n"
     ]
    },
    {
     "ename": "KeyboardInterrupt",
     "evalue": "Interrupted by user",
     "output_type": "error",
     "traceback": [
      "\u001b[1;31m---------------------------------------------------------------------------\u001b[0m",
      "\u001b[1;31mKeyboardInterrupt\u001b[0m                         Traceback (most recent call last)",
      "Input \u001b[1;32mIn [85]\u001b[0m, in \u001b[0;36m<cell line: 5>\u001b[1;34m()\u001b[0m\n\u001b[0;32m      2\u001b[0m naming \u001b[38;5;241m=\u001b[39m \u001b[38;5;124m'\u001b[39m\u001b[38;5;124mABC\u001b[39m\u001b[38;5;124m'\u001b[39m\n\u001b[0;32m      4\u001b[0m \u001b[38;5;28;01mwhile\u001b[39;00m(\u001b[38;5;28;01mTrue\u001b[39;00m):\n\u001b[1;32m----> 5\u001b[0m     name2 \u001b[38;5;241m=\u001b[39m \u001b[38;5;28mstr\u001b[39m(\u001b[38;5;28;43minput\u001b[39;49m\u001b[43m(\u001b[49m\u001b[38;5;124;43m\"\u001b[39;49m\u001b[38;5;124;43menter name 2: \u001b[39;49m\u001b[38;5;124;43m\"\u001b[39;49m\u001b[43m)\u001b[49m)\n\u001b[0;32m      6\u001b[0m     \u001b[38;5;28;01mif\u001b[39;00m(naming \u001b[38;5;241m==\u001b[39m name2):\n\u001b[0;32m      7\u001b[0m         \u001b[38;5;28;01mcontinue\u001b[39;00m\n",
      "File \u001b[1;32m~\\anaconda3\\lib\\site-packages\\ipykernel\\kernelbase.py:1075\u001b[0m, in \u001b[0;36mKernel.raw_input\u001b[1;34m(self, prompt)\u001b[0m\n\u001b[0;32m   1071\u001b[0m \u001b[38;5;28;01mif\u001b[39;00m \u001b[38;5;129;01mnot\u001b[39;00m \u001b[38;5;28mself\u001b[39m\u001b[38;5;241m.\u001b[39m_allow_stdin:\n\u001b[0;32m   1072\u001b[0m     \u001b[38;5;28;01mraise\u001b[39;00m StdinNotImplementedError(\n\u001b[0;32m   1073\u001b[0m         \u001b[38;5;124m\"\u001b[39m\u001b[38;5;124mraw_input was called, but this frontend does not support input requests.\u001b[39m\u001b[38;5;124m\"\u001b[39m\n\u001b[0;32m   1074\u001b[0m     )\n\u001b[1;32m-> 1075\u001b[0m \u001b[38;5;28;01mreturn\u001b[39;00m \u001b[38;5;28;43mself\u001b[39;49m\u001b[38;5;241;43m.\u001b[39;49m\u001b[43m_input_request\u001b[49m\u001b[43m(\u001b[49m\n\u001b[0;32m   1076\u001b[0m \u001b[43m    \u001b[49m\u001b[38;5;28;43mstr\u001b[39;49m\u001b[43m(\u001b[49m\u001b[43mprompt\u001b[49m\u001b[43m)\u001b[49m\u001b[43m,\u001b[49m\n\u001b[0;32m   1077\u001b[0m \u001b[43m    \u001b[49m\u001b[38;5;28;43mself\u001b[39;49m\u001b[38;5;241;43m.\u001b[39;49m\u001b[43m_parent_ident\u001b[49m\u001b[43m[\u001b[49m\u001b[38;5;124;43m\"\u001b[39;49m\u001b[38;5;124;43mshell\u001b[39;49m\u001b[38;5;124;43m\"\u001b[39;49m\u001b[43m]\u001b[49m\u001b[43m,\u001b[49m\n\u001b[0;32m   1078\u001b[0m \u001b[43m    \u001b[49m\u001b[38;5;28;43mself\u001b[39;49m\u001b[38;5;241;43m.\u001b[39;49m\u001b[43mget_parent\u001b[49m\u001b[43m(\u001b[49m\u001b[38;5;124;43m\"\u001b[39;49m\u001b[38;5;124;43mshell\u001b[39;49m\u001b[38;5;124;43m\"\u001b[39;49m\u001b[43m)\u001b[49m\u001b[43m,\u001b[49m\n\u001b[0;32m   1079\u001b[0m \u001b[43m    \u001b[49m\u001b[43mpassword\u001b[49m\u001b[38;5;241;43m=\u001b[39;49m\u001b[38;5;28;43;01mFalse\u001b[39;49;00m\u001b[43m,\u001b[49m\n\u001b[0;32m   1080\u001b[0m \u001b[43m\u001b[49m\u001b[43m)\u001b[49m\n",
      "File \u001b[1;32m~\\anaconda3\\lib\\site-packages\\ipykernel\\kernelbase.py:1120\u001b[0m, in \u001b[0;36mKernel._input_request\u001b[1;34m(self, prompt, ident, parent, password)\u001b[0m\n\u001b[0;32m   1117\u001b[0m             \u001b[38;5;28;01mbreak\u001b[39;00m\n\u001b[0;32m   1118\u001b[0m \u001b[38;5;28;01mexcept\u001b[39;00m \u001b[38;5;167;01mKeyboardInterrupt\u001b[39;00m:\n\u001b[0;32m   1119\u001b[0m     \u001b[38;5;66;03m# re-raise KeyboardInterrupt, to truncate traceback\u001b[39;00m\n\u001b[1;32m-> 1120\u001b[0m     \u001b[38;5;28;01mraise\u001b[39;00m \u001b[38;5;167;01mKeyboardInterrupt\u001b[39;00m(\u001b[38;5;124m\"\u001b[39m\u001b[38;5;124mInterrupted by user\u001b[39m\u001b[38;5;124m\"\u001b[39m) \u001b[38;5;28;01mfrom\u001b[39;00m \u001b[38;5;28mNone\u001b[39m\n\u001b[0;32m   1121\u001b[0m \u001b[38;5;28;01mexcept\u001b[39;00m \u001b[38;5;167;01mException\u001b[39;00m:\n\u001b[0;32m   1122\u001b[0m     \u001b[38;5;28mself\u001b[39m\u001b[38;5;241m.\u001b[39mlog\u001b[38;5;241m.\u001b[39mwarning(\u001b[38;5;124m\"\u001b[39m\u001b[38;5;124mInvalid Message:\u001b[39m\u001b[38;5;124m\"\u001b[39m, exc_info\u001b[38;5;241m=\u001b[39m\u001b[38;5;28;01mTrue\u001b[39;00m)\n",
      "\u001b[1;31mKeyboardInterrupt\u001b[0m: Interrupted by user"
     ]
    }
   ],
   "source": [
    "data = []\n",
    "naming = 'ABC'\n",
    "\n",
    "while(True):\n",
    "    name2 = str(input(\"enter name 2: \"))\n",
    "    if(naming == name2):\n",
    "        continue\n",
    "    else:\n",
    "        data.append(name2)\n",
    "    \n",
    "    "
   ]
  },
  {
   "cell_type": "markdown",
   "id": "1497cc7a",
   "metadata": {},
   "source": [
    "# Dictionary"
   ]
  },
  {
   "cell_type": "code",
   "execution_count": 105,
   "id": "d71b8bee",
   "metadata": {},
   "outputs": [],
   "source": [
    "dic = {\"Hungary\" : \"Bhooka\", \"Age\" : 50}"
   ]
  },
  {
   "cell_type": "code",
   "execution_count": 106,
   "id": "650eb7d9",
   "metadata": {},
   "outputs": [
    {
     "data": {
      "text/plain": [
       "{'Hungary': 'Bhooka', 'Age': 50}"
      ]
     },
     "execution_count": 106,
     "metadata": {},
     "output_type": "execute_result"
    }
   ],
   "source": [
    "dic"
   ]
  },
  {
   "cell_type": "code",
   "execution_count": 108,
   "id": "b0eff7a7",
   "metadata": {},
   "outputs": [
    {
     "data": {
      "text/plain": [
       "50"
      ]
     },
     "execution_count": 108,
     "metadata": {},
     "output_type": "execute_result"
    }
   ],
   "source": [
    "dic['Age']"
   ]
  },
  {
   "cell_type": "code",
   "execution_count": 109,
   "id": "2bc4fe7d",
   "metadata": {},
   "outputs": [
    {
     "data": {
      "text/plain": [
       "'Bhooka'"
      ]
     },
     "execution_count": 109,
     "metadata": {},
     "output_type": "execute_result"
    }
   ],
   "source": [
    "dic['Hungary']"
   ]
  },
  {
   "cell_type": "code",
   "execution_count": 110,
   "id": "0993fb1b",
   "metadata": {},
   "outputs": [
    {
     "data": {
      "text/plain": [
       "(50, 'Bhooka')"
      ]
     },
     "execution_count": 110,
     "metadata": {},
     "output_type": "execute_result"
    }
   ],
   "source": [
    "dic[\"Age\"], dic[\"Hungary\"]"
   ]
  },
  {
   "cell_type": "markdown",
   "id": "b912b45d",
   "metadata": {},
   "source": [
    "# Task"
   ]
  },
  {
   "cell_type": "code",
   "execution_count": 137,
   "id": "0b44e971",
   "metadata": {},
   "outputs": [],
   "source": [
    "dic = {'ABC-DEF-001' : 'fahad', 'ABC-DEF-002': 'saad', 'ABC-DEF-003': 'hammad','ABC-DEF-004': 'billi'}"
   ]
  },
  {
   "cell_type": "code",
   "execution_count": 138,
   "id": "181411f4",
   "metadata": {},
   "outputs": [
    {
     "data": {
      "text/plain": [
       "{'ABC-DEF-001': 'fahad',\n",
       " 'ABC-DEF-002': 'saad',\n",
       " 'ABC-DEF-003': 'hammad',\n",
       " 'ABC-DEF-004': 'billi'}"
      ]
     },
     "execution_count": 138,
     "metadata": {},
     "output_type": "execute_result"
    }
   ],
   "source": [
    "dic"
   ]
  },
  {
   "cell_type": "code",
   "execution_count": 139,
   "id": "cebadd57",
   "metadata": {},
   "outputs": [
    {
     "name": "stdout",
     "output_type": "stream",
     "text": [
      "ABC-DEF-001\n",
      "ABC-DEF-002\n",
      "ABC-DEF-003\n",
      "ABC-DEF-004\n",
      "----------------\n",
      "fahad\n",
      "saad\n",
      "hammad\n",
      "billi\n",
      "----------------\n",
      "('ABC-DEF-001', 'fahad')\n",
      "('ABC-DEF-002', 'saad')\n",
      "('ABC-DEF-003', 'hammad')\n",
      "('ABC-DEF-004', 'billi')\n"
     ]
    }
   ],
   "source": [
    "for i in dic.keys():\n",
    "    print(i)\n",
    "    \n",
    "print('----------------')\n",
    "\n",
    "for i in dic.values():\n",
    "    print(i)\n",
    "    \n",
    "print('----------------')\n",
    "\n",
    "for i in dic.items():\n",
    "    print(i)"
   ]
  },
  {
   "cell_type": "code",
   "execution_count": 142,
   "id": "c9587c19",
   "metadata": {},
   "outputs": [],
   "source": [
    "name = 'fahad'\n",
    "lst = []\n",
    "\n",
    "for i in dic.values():\n",
    "    if(i == name):\n",
    "        lst.append(i)\n",
    "        "
   ]
  },
  {
   "cell_type": "code",
   "execution_count": 143,
   "id": "83fb672c",
   "metadata": {},
   "outputs": [
    {
     "data": {
      "text/plain": [
       "['fahad']"
      ]
     },
     "execution_count": 143,
     "metadata": {},
     "output_type": "execute_result"
    }
   ],
   "source": [
    "lst"
   ]
  },
  {
   "cell_type": "code",
   "execution_count": 144,
   "id": "03be9dc9",
   "metadata": {},
   "outputs": [
    {
     "name": "stdout",
     "output_type": "stream",
     "text": [
      "odd value\n"
     ]
    }
   ],
   "source": [
    "length = len(lst[0])\n",
    "\n",
    "if (length % 2 == 0):\n",
    "    print(\"even Value\")\n",
    "else:\n",
    "    print(\"odd value\")"
   ]
  },
  {
   "cell_type": "code",
   "execution_count": 145,
   "id": "3c4d606e",
   "metadata": {},
   "outputs": [],
   "source": [
    "# pop\n",
    "a = dic.pop('ABC-DEF-002')"
   ]
  },
  {
   "cell_type": "code",
   "execution_count": 146,
   "id": "0d5d6cdd",
   "metadata": {},
   "outputs": [
    {
     "name": "stdout",
     "output_type": "stream",
     "text": [
      "saad\n"
     ]
    }
   ],
   "source": [
    "print(a)"
   ]
  },
  {
   "cell_type": "code",
   "execution_count": 147,
   "id": "446cd2fd",
   "metadata": {},
   "outputs": [
    {
     "name": "stdout",
     "output_type": "stream",
     "text": [
      "{'ABC-DEF-001': 'fahad', 'ABC-DEF-003': 'hammad', 'ABC-DEF-004': 'billi'}\n"
     ]
    }
   ],
   "source": [
    "print(dic)"
   ]
  },
  {
   "cell_type": "code",
   "execution_count": 149,
   "id": "b8df761d",
   "metadata": {},
   "outputs": [],
   "source": [
    "# pop item\n",
    "b = dic.popitem()"
   ]
  },
  {
   "cell_type": "code",
   "execution_count": 150,
   "id": "a63a6613",
   "metadata": {},
   "outputs": [
    {
     "data": {
      "text/plain": [
       "('ABC-DEF-004', 'billi')"
      ]
     },
     "execution_count": 150,
     "metadata": {},
     "output_type": "execute_result"
    }
   ],
   "source": [
    "b"
   ]
  },
  {
   "cell_type": "code",
   "execution_count": 151,
   "id": "d042666f",
   "metadata": {},
   "outputs": [
    {
     "data": {
      "text/plain": [
       "{'ABC-DEF-001': 'fahad', 'ABC-DEF-003': 'hammad'}"
      ]
     },
     "execution_count": 151,
     "metadata": {},
     "output_type": "execute_result"
    }
   ],
   "source": [
    "dic"
   ]
  },
  {
   "cell_type": "code",
   "execution_count": 154,
   "id": "c8cac4e5",
   "metadata": {},
   "outputs": [],
   "source": [
    "# set defult\n",
    "dic.setdefault('ABC-DEF-005')"
   ]
  },
  {
   "cell_type": "code",
   "execution_count": 156,
   "id": "bdcf11a3",
   "metadata": {},
   "outputs": [
    {
     "data": {
      "text/plain": [
       "{'ABC-DEF-001': 'fahad', 'ABC-DEF-003': 'hammad', 'ABC-DEF-005': None}"
      ]
     },
     "execution_count": 156,
     "metadata": {},
     "output_type": "execute_result"
    }
   ],
   "source": [
    "dic"
   ]
  },
  {
   "cell_type": "code",
   "execution_count": null,
   "id": "5b573dc3",
   "metadata": {},
   "outputs": [],
   "source": []
  },
  {
   "cell_type": "code",
   "execution_count": 159,
   "id": "4895167a",
   "metadata": {},
   "outputs": [],
   "source": [
    "# update\n",
    "dic.update({\"ABC-DEF-006\": \"Tahir\"})\n"
   ]
  },
  {
   "cell_type": "code",
   "execution_count": 160,
   "id": "25617776",
   "metadata": {
    "scrolled": true
   },
   "outputs": [
    {
     "data": {
      "text/plain": [
       "{'ABC-DEF-001': 'fahad',\n",
       " 'ABC-DEF-003': 'hammad',\n",
       " 'ABC-DEF-005': None,\n",
       " 'color': 'White',\n",
       " 'ABC-DEF-006': 'Tahir'}"
      ]
     },
     "execution_count": 160,
     "metadata": {},
     "output_type": "execute_result"
    }
   ],
   "source": [
    "dic"
   ]
  },
  {
   "cell_type": "code",
   "execution_count": 161,
   "id": "eb736038",
   "metadata": {},
   "outputs": [
    {
     "data": {
      "text/plain": [
       "'fahad'"
      ]
     },
     "execution_count": 161,
     "metadata": {},
     "output_type": "execute_result"
    }
   ],
   "source": [
    "dic['ABC-DEF-001']"
   ]
  },
  {
   "cell_type": "code",
   "execution_count": 163,
   "id": "1c05c289",
   "metadata": {},
   "outputs": [],
   "source": [
    "dicti = {'Name' : ['fahad','saad','hamad','billi','mama'],\n",
    "        'Age': [20,22,17,13,43],\n",
    "        'Score' : [88,98,89,78,31],\n",
    "        'Result': ['pass','pass','pass','pass','fail']}"
   ]
  },
  {
   "cell_type": "code",
   "execution_count": 164,
   "id": "67918d41",
   "metadata": {},
   "outputs": [
    {
     "data": {
      "text/plain": [
       "{'Name': ['fahad', 'saad', 'hamad', 'billi', 'mama'],\n",
       " 'Age': [20, 22, 17, 13, 43],\n",
       " 'Score': [88, 98, 89, 78, 31],\n",
       " 'Result': ['pass', 'pass', 'pass', 'pass', 'fail']}"
      ]
     },
     "execution_count": 164,
     "metadata": {},
     "output_type": "execute_result"
    }
   ],
   "source": [
    "dicti"
   ]
  },
  {
   "cell_type": "code",
   "execution_count": 172,
   "id": "da655de2",
   "metadata": {},
   "outputs": [
    {
     "name": "stdout",
     "output_type": "stream",
     "text": [
      "fahad 20 88 pass\n"
     ]
    }
   ],
   "source": [
    "print( dicti['Name'][0],  dicti['Age'][0] , dicti['Score'][0], dicti[\"Result\"][0])"
   ]
  },
  {
   "cell_type": "code",
   "execution_count": 176,
   "id": "50db4078",
   "metadata": {
    "scrolled": true
   },
   "outputs": [
    {
     "name": "stdout",
     "output_type": "stream",
     "text": [
      "saad 22 98 pass\n"
     ]
    }
   ],
   "source": [
    "print( dicti['Name'][1],  dicti['Age'][1] , dicti['Score'][1], dicti[\"Result\"][1])"
   ]
  },
  {
   "cell_type": "code",
   "execution_count": 174,
   "id": "f3d27444",
   "metadata": {},
   "outputs": [
    {
     "name": "stdout",
     "output_type": "stream",
     "text": [
      "hamad 17 89 pass\n"
     ]
    }
   ],
   "source": [
    "print( dicti['Name'][2],  dicti['Age'][2] , dicti['Score'][2], dicti[\"Result\"][2])"
   ]
  },
  {
   "cell_type": "code",
   "execution_count": 175,
   "id": "2a1d273b",
   "metadata": {
    "scrolled": true
   },
   "outputs": [
    {
     "name": "stdout",
     "output_type": "stream",
     "text": [
      "billi 13 78 pass\n"
     ]
    }
   ],
   "source": [
    "print( dicti['Name'][3],  dicti['Age'][3] , dicti['Score'][3], dicti[\"Result\"][3])"
   ]
  },
  {
   "cell_type": "code",
   "execution_count": 177,
   "id": "d10135ad",
   "metadata": {},
   "outputs": [
    {
     "name": "stdout",
     "output_type": "stream",
     "text": [
      "fahad 20 88 pass\n",
      "saad 22 98 pass\n",
      "hamad 17 89 pass\n",
      "billi 13 78 pass\n"
     ]
    }
   ],
   "source": [
    "print( dicti['Name'][0],  dicti['Age'][0] , dicti['Score'][0], dicti[\"Result\"][0])\n",
    "print( dicti['Name'][1],  dicti['Age'][1] , dicti['Score'][1], dicti[\"Result\"][1])\n",
    "print( dicti['Name'][2],  dicti['Age'][2] , dicti['Score'][2], dicti[\"Result\"][2])\n",
    "print( dicti['Name'][3],  dicti['Age'][3] , dicti['Score'][3], dicti[\"Result\"][3])"
   ]
  },
  {
   "cell_type": "code",
   "execution_count": null,
   "id": "544cfedc",
   "metadata": {},
   "outputs": [],
   "source": []
  },
  {
   "cell_type": "code",
   "execution_count": null,
   "id": "70308be4",
   "metadata": {},
   "outputs": [],
   "source": []
  },
  {
   "cell_type": "code",
   "execution_count": null,
   "id": "df4b1e49",
   "metadata": {},
   "outputs": [],
   "source": []
  }
 ],
 "metadata": {
  "kernelspec": {
   "display_name": "Python 3 (ipykernel)",
   "language": "python",
   "name": "python3"
  },
  "language_info": {
   "codemirror_mode": {
    "name": "ipython",
    "version": 3
   },
   "file_extension": ".py",
   "mimetype": "text/x-python",
   "name": "python",
   "nbconvert_exporter": "python",
   "pygments_lexer": "ipython3",
   "version": "3.9.12"
  }
 },
 "nbformat": 4,
 "nbformat_minor": 5
}
